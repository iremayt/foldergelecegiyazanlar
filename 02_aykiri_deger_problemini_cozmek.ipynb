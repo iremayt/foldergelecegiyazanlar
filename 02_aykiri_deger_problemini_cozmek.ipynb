{
 "cells": [
  {
   "cell_type": "markdown",
   "id": "137626ba",
   "metadata": {},
   "source": [
    "## Cok degiskenli aykiri deger analizi:"
   ]
  },
  {
   "cell_type": "code",
   "execution_count": 2,
   "id": "79795462",
   "metadata": {},
   "outputs": [],
   "source": [
    "## Local Outlier Factor (LOF)"
   ]
  },
  {
   "cell_type": "markdown",
   "id": "54ddb387",
   "metadata": {},
   "source": [
    "Gozlemleri bulunduklari konumda yogunluk tabanli skorlayarak buna gore aykiri deger olabilecek degeri tanimlamaya olanak saglar.\n",
    "Bir noktanin local yogunlugu bu noktanin komsulari ile karsilastirilir. Eger bir nokta komsunlarinin yogunlugundan anlamli sekilde dusuk ise bu nokta komsularindan daha seyrek bir bolgede bulunuyordur yorumu yapilabilir. Dolayisiyla burada bir komsuluk yapisi soz konusu. Bir degerin cevresi yogun dglse demek ki bu deger aykiri degerdir sek.de degerlendirlir."
   ]
  },
  {
   "cell_type": "code",
   "execution_count": 5,
   "id": "64f605b6",
   "metadata": {},
   "outputs": [
    {
     "data": {
      "text/html": [
       "<div>\n",
       "<style scoped>\n",
       "    .dataframe tbody tr th:only-of-type {\n",
       "        vertical-align: middle;\n",
       "    }\n",
       "\n",
       "    .dataframe tbody tr th {\n",
       "        vertical-align: top;\n",
       "    }\n",
       "\n",
       "    .dataframe thead th {\n",
       "        text-align: right;\n",
       "    }\n",
       "</style>\n",
       "<table border=\"1\" class=\"dataframe\">\n",
       "  <thead>\n",
       "    <tr style=\"text-align: right;\">\n",
       "      <th></th>\n",
       "      <th>carat</th>\n",
       "      <th>depth</th>\n",
       "      <th>table</th>\n",
       "      <th>price</th>\n",
       "      <th>x</th>\n",
       "      <th>y</th>\n",
       "      <th>z</th>\n",
       "    </tr>\n",
       "  </thead>\n",
       "  <tbody>\n",
       "    <tr>\n",
       "      <th>0</th>\n",
       "      <td>0.23</td>\n",
       "      <td>61.5</td>\n",
       "      <td>55.0</td>\n",
       "      <td>326</td>\n",
       "      <td>3.95</td>\n",
       "      <td>3.98</td>\n",
       "      <td>2.43</td>\n",
       "    </tr>\n",
       "    <tr>\n",
       "      <th>1</th>\n",
       "      <td>0.21</td>\n",
       "      <td>59.8</td>\n",
       "      <td>61.0</td>\n",
       "      <td>326</td>\n",
       "      <td>3.89</td>\n",
       "      <td>3.84</td>\n",
       "      <td>2.31</td>\n",
       "    </tr>\n",
       "    <tr>\n",
       "      <th>2</th>\n",
       "      <td>0.23</td>\n",
       "      <td>56.9</td>\n",
       "      <td>65.0</td>\n",
       "      <td>327</td>\n",
       "      <td>4.05</td>\n",
       "      <td>4.07</td>\n",
       "      <td>2.31</td>\n",
       "    </tr>\n",
       "    <tr>\n",
       "      <th>3</th>\n",
       "      <td>0.29</td>\n",
       "      <td>62.4</td>\n",
       "      <td>58.0</td>\n",
       "      <td>334</td>\n",
       "      <td>4.20</td>\n",
       "      <td>4.23</td>\n",
       "      <td>2.63</td>\n",
       "    </tr>\n",
       "    <tr>\n",
       "      <th>4</th>\n",
       "      <td>0.31</td>\n",
       "      <td>63.3</td>\n",
       "      <td>58.0</td>\n",
       "      <td>335</td>\n",
       "      <td>4.34</td>\n",
       "      <td>4.35</td>\n",
       "      <td>2.75</td>\n",
       "    </tr>\n",
       "  </tbody>\n",
       "</table>\n",
       "</div>"
      ],
      "text/plain": [
       "   carat  depth  table  price     x     y     z\n",
       "0   0.23   61.5   55.0    326  3.95  3.98  2.43\n",
       "1   0.21   59.8   61.0    326  3.89  3.84  2.31\n",
       "2   0.23   56.9   65.0    327  4.05  4.07  2.31\n",
       "3   0.29   62.4   58.0    334  4.20  4.23  2.63\n",
       "4   0.31   63.3   58.0    335  4.34  4.35  2.75"
      ]
     },
     "execution_count": 5,
     "metadata": {},
     "output_type": "execute_result"
    }
   ],
   "source": [
    "import seaborn as sns\n",
    "diamonds=sns.load_dataset('diamonds') #diamonds isimli veri setini seaborn kutuphanesinden cektik.\n",
    "diamonds=diamonds.select_dtypes(include=['float64','int64']) #Sadece icerisindeki sayisal degerlere erismek icin tip secimi.\n",
    "df=diamonds.copy()\n",
    "df=df.dropna() #Veri setindeki eksik degerleri silerek, disarida birakiyoruz ve son dataframe'imizi olusturduk.\n",
    "df.head()"
   ]
  },
  {
   "cell_type": "code",
   "execution_count": 7,
   "id": "c30f3bbe",
   "metadata": {},
   "outputs": [],
   "source": [
    "# 2 fonksiyon import etmemiz gerekiyor.\n",
    "import numpy as np\n",
    "from sklearn.neighbors import LocalOutlierFactor"
   ]
  },
  {
   "cell_type": "code",
   "execution_count": null,
   "id": "b39489d8",
   "metadata": {},
   "outputs": [],
   "source": [
    "#LOF kullanarak bir skorlama islemi gerceklestirecegiz:\n",
    "clf = LocalOutlierFactor(n_neighbors = 20)"
   ]
  }
 ],
 "metadata": {
  "kernelspec": {
   "display_name": "Python 3 (ipykernel)",
   "language": "python",
   "name": "python3"
  },
  "language_info": {
   "codemirror_mode": {
    "name": "ipython",
    "version": 3
   },
   "file_extension": ".py",
   "mimetype": "text/x-python",
   "name": "python",
   "nbconvert_exporter": "python",
   "pygments_lexer": "ipython3",
   "version": "3.9.7"
  }
 },
 "nbformat": 4,
 "nbformat_minor": 5
}
