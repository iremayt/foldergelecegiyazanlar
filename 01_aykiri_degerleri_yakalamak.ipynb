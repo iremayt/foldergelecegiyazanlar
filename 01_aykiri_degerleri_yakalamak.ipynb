{
 "cells": [
  {
   "cell_type": "markdown",
   "id": "277d1704",
   "metadata": {},
   "source": [
    "# Aykiri Gozlem Analizi\n",
    "## Aykiri degerleri yakalamak:"
   ]
  },
  {
   "cell_type": "code",
   "execution_count": 4,
   "id": "d6b505b4",
   "metadata": {},
   "outputs": [],
   "source": [
    "import seaborn as sns"
   ]
  },
  {
   "cell_type": "code",
   "execution_count": 5,
   "id": "45a20da5",
   "metadata": {},
   "outputs": [
    {
     "data": {
      "text/html": [
       "<div>\n",
       "<style scoped>\n",
       "    .dataframe tbody tr th:only-of-type {\n",
       "        vertical-align: middle;\n",
       "    }\n",
       "\n",
       "    .dataframe tbody tr th {\n",
       "        vertical-align: top;\n",
       "    }\n",
       "\n",
       "    .dataframe thead th {\n",
       "        text-align: right;\n",
       "    }\n",
       "</style>\n",
       "<table border=\"1\" class=\"dataframe\">\n",
       "  <thead>\n",
       "    <tr style=\"text-align: right;\">\n",
       "      <th></th>\n",
       "      <th>carat</th>\n",
       "      <th>depth</th>\n",
       "      <th>table</th>\n",
       "      <th>price</th>\n",
       "      <th>x</th>\n",
       "      <th>y</th>\n",
       "      <th>z</th>\n",
       "    </tr>\n",
       "  </thead>\n",
       "  <tbody>\n",
       "    <tr>\n",
       "      <th>0</th>\n",
       "      <td>0.23</td>\n",
       "      <td>61.5</td>\n",
       "      <td>55.0</td>\n",
       "      <td>326</td>\n",
       "      <td>3.95</td>\n",
       "      <td>3.98</td>\n",
       "      <td>2.43</td>\n",
       "    </tr>\n",
       "    <tr>\n",
       "      <th>1</th>\n",
       "      <td>0.21</td>\n",
       "      <td>59.8</td>\n",
       "      <td>61.0</td>\n",
       "      <td>326</td>\n",
       "      <td>3.89</td>\n",
       "      <td>3.84</td>\n",
       "      <td>2.31</td>\n",
       "    </tr>\n",
       "    <tr>\n",
       "      <th>2</th>\n",
       "      <td>0.23</td>\n",
       "      <td>56.9</td>\n",
       "      <td>65.0</td>\n",
       "      <td>327</td>\n",
       "      <td>4.05</td>\n",
       "      <td>4.07</td>\n",
       "      <td>2.31</td>\n",
       "    </tr>\n",
       "    <tr>\n",
       "      <th>3</th>\n",
       "      <td>0.29</td>\n",
       "      <td>62.4</td>\n",
       "      <td>58.0</td>\n",
       "      <td>334</td>\n",
       "      <td>4.20</td>\n",
       "      <td>4.23</td>\n",
       "      <td>2.63</td>\n",
       "    </tr>\n",
       "    <tr>\n",
       "      <th>4</th>\n",
       "      <td>0.31</td>\n",
       "      <td>63.3</td>\n",
       "      <td>58.0</td>\n",
       "      <td>335</td>\n",
       "      <td>4.34</td>\n",
       "      <td>4.35</td>\n",
       "      <td>2.75</td>\n",
       "    </tr>\n",
       "  </tbody>\n",
       "</table>\n",
       "</div>"
      ],
      "text/plain": [
       "   carat  depth  table  price     x     y     z\n",
       "0   0.23   61.5   55.0    326  3.95  3.98  2.43\n",
       "1   0.21   59.8   61.0    326  3.89  3.84  2.31\n",
       "2   0.23   56.9   65.0    327  4.05  4.07  2.31\n",
       "3   0.29   62.4   58.0    334  4.20  4.23  2.63\n",
       "4   0.31   63.3   58.0    335  4.34  4.35  2.75"
      ]
     },
     "execution_count": 5,
     "metadata": {},
     "output_type": "execute_result"
    }
   ],
   "source": [
    "df=sns.load_dataset('diamonds') #diamonds isimli veri setini seaborn kutuphanesinden cektik.\n",
    "df=df.select_dtypes(include=['float64','int64']) #Sadece icerisindeki sayisal degerlere erismek icin bir tip secimi yaptik.\n",
    "df=df.dropna() #Veri setindeki eksik degerleri silerek, disarida birakiyoruz ve son dataframe'imizi olusturduk.\n",
    "df.head()"
   ]
  },
  {
   "cell_type": "code",
   "execution_count": 6,
   "id": "6337cd1e",
   "metadata": {},
   "outputs": [],
   "source": [
    "#degiskenlerden bir tanesini secip bunun uzerinde calismalarimizi surdurelim.\n",
    "df_table=df[\"table\"] #dataframe'in icinden table degiskenini seciyorum. Bunu df_table olarak isimlendiriyorum."
   ]
  },
  {
   "cell_type": "code",
   "execution_count": 7,
   "id": "e389edf6",
   "metadata": {},
   "outputs": [
    {
     "data": {
      "text/plain": [
       "0    55.0\n",
       "1    61.0\n",
       "2    65.0\n",
       "3    58.0\n",
       "4    58.0\n",
       "Name: table, dtype: float64"
      ]
     },
     "execution_count": 7,
     "metadata": {},
     "output_type": "execute_result"
    }
   ],
   "source": [
    "df_table.head() #df_table'i bir gozlemleyelim dogru mu diye."
   ]
  },
  {
   "cell_type": "code",
   "execution_count": 8,
   "id": "30ea46f0",
   "metadata": {},
   "outputs": [
    {
     "data": {
      "image/png": "[encoded data removed]",
      "text/plain": [
       "<Figure size 432x288 with 1 Axes>"
      ]
     },
     "metadata": {
      "needs_background": "light"
     },
     "output_type": "display_data"
    }
   ],
   "source": [
    "sns.boxplot(x=df_table); #df_table degiskenini kutu grafik yaklasimi ile gorsellestirelim."
   ]
  },
  {
   "cell_type": "code",
   "execution_count": 9,
   "id": "2ffdb982",
   "metadata": {},
   "outputs": [],
   "source": [
    "#Bir esik deger belirleyelim: Burada boxplot yontemi ile esik deger belirleme yontemi kullanacagiz.\n",
    "Q1=df_table.quantile(0.25) #degiskenin kucukten buyuge siralandiginda %25. indexine karsilik gelen degeri alicak Q1. ilk ceyrek.\n",
    "Q3=df_table.quantile(0.75) #3. ceyrek.\n",
    "IQR=Q3-Q1"
   ]
  },
  {
   "cell_type": "code",
   "execution_count": 10,
   "id": "0f122583",
   "metadata": {},
   "outputs": [
    {
     "data": {
      "text/plain": [
       "56.0"
      ]
     },
     "execution_count": 10,
     "metadata": {},
     "output_type": "execute_result"
    }
   ],
   "source": [
    "Q1 #q1'i bir gozlemleyelim. Bu deger sekilde mavinin baslangic noktasini gosteriyor aslinda."
   ]
  },
  {
   "cell_type": "code",
   "execution_count": 11,
   "id": "bb9bf44a",
   "metadata": {},
   "outputs": [
    {
     "data": {
      "text/plain": [
       "59.0"
      ]
     },
     "execution_count": 11,
     "metadata": {},
     "output_type": "execute_result"
    }
   ],
   "source": [
    "Q3 #q3'u bir gozlemleyelim. Bu deger sekilde mavinin bitis noktasini gosteriyor aslinda."
   ]
  },
  {
   "cell_type": "code",
   "execution_count": 12,
   "id": "1495bfae",
   "metadata": {},
   "outputs": [
    {
     "data": {
      "text/plain": [
       "3.0"
      ]
     },
     "execution_count": 12,
     "metadata": {},
     "output_type": "execute_result"
    }
   ],
   "source": [
    "IQR"
   ]
  },
  {
   "cell_type": "code",
   "execution_count": 13,
   "id": "6ee1f467",
   "metadata": {},
   "outputs": [],
   "source": [
    "#esik deger hesaplama islemi yapalim:\n",
    "alt_sinir=Q1-1.5*IQR #Q1 degerinden 1.5*IQR kadar asagisini alt sinir olarak belirle.\n",
    "ust_sinir=Q3+1.5*IQR"
   ]
  },
  {
   "cell_type": "code",
   "execution_count": 14,
   "id": "60ad723d",
   "metadata": {},
   "outputs": [
    {
     "data": {
      "text/plain": [
       "51.5"
      ]
     },
     "execution_count": 14,
     "metadata": {},
     "output_type": "execute_result"
    }
   ],
   "source": [
    "alt_sinir #alt_sinir'i bir gozlemleyelim. Bu deger sekilde 1.siyah cizgiye denk gelir."
   ]
  },
  {
   "cell_type": "code",
   "execution_count": 15,
   "id": "52705275",
   "metadata": {},
   "outputs": [
    {
     "data": {
      "text/plain": [
       "63.5"
      ]
     },
     "execution_count": 15,
     "metadata": {},
     "output_type": "execute_result"
    }
   ],
   "source": [
    "ust_sinir #ust_sinir'i bir gozlemleyelim. Bu deger sekilde sondaki siyah cizgiye denk gelir."
   ]
  },
  {
   "cell_type": "code",
   "execution_count": 16,
   "id": "efa09a0d",
   "metadata": {},
   "outputs": [
    {
     "data": {
      "text/plain": [
       "0        False\n",
       "1        False\n",
       "2         True\n",
       "3        False\n",
       "4        False\n",
       "         ...  \n",
       "53935    False\n",
       "53936    False\n",
       "53937    False\n",
       "53938    False\n",
       "53939    False\n",
       "Name: table, Length: 53940, dtype: bool"
      ]
     },
     "execution_count": 16,
     "metadata": {},
     "output_type": "execute_result"
    }
   ],
   "source": [
    "#Aykiri gozlem sorgulamasi yapalim.\n",
    "(df_table<alt_sinir) | (df_table>ust_sinir) #alt_sinirdan kucuk olanlara veya ust_sinirdan buyuk olanlara(aykiri) true diyecek."
   ]
  },
  {
   "cell_type": "code",
   "execution_count": 17,
   "id": "23eae426",
   "metadata": {},
   "outputs": [
    {
     "data": {
      "text/plain": [
       "2        65.0\n",
       "91       69.0\n",
       "145      64.0\n",
       "219      64.0\n",
       "227      67.0\n",
       "         ... \n",
       "53695    65.0\n",
       "53697    65.0\n",
       "53756    64.0\n",
       "53757    64.0\n",
       "53785    65.0\n",
       "Name: table, Length: 605, dtype: float64"
      ]
     },
     "execution_count": 17,
     "metadata": {},
     "output_type": "execute_result"
    }
   ],
   "source": [
    "#aykiri degerleri true-false olarak gorduk. Bir de bu aykiri degerlerin kendilerine erismek istedigimizi dusunelim.\n",
    "aykiri_tf=(df_table<alt_sinir) | (df_table>ust_sinir)\n",
    "df_table[aykiri_tf] #aykiri_true-false'da true olanların degerlerini goster. index degerleri ile birlikte gorebiliriz."
   ]
  },
  {
   "cell_type": "code",
   "execution_count": 18,
   "id": "f9388614",
   "metadata": {},
   "outputs": [
    {
     "data": {
      "text/plain": [
       "Int64Index([    2,    91,   145,   219,   227,   239,   296,   314,   356,\n",
       "              359,\n",
       "            ...\n",
       "            53226, 53503, 53542, 53577, 53660, 53695, 53697, 53756, 53757,\n",
       "            53785],\n",
       "           dtype='int64', length=605)"
      ]
     },
     "execution_count": 18,
     "metadata": {},
     "output_type": "execute_result"
    }
   ],
   "source": [
    "df_table[aykiri_tf].index #sadece indexlerine erismek istersek."
   ]
  },
  {
   "cell_type": "markdown",
   "id": "e90d0bf6",
   "metadata": {},
   "source": [
    "## Aykiri deger problemini cozmek:"
   ]
  },
  {
   "cell_type": "code",
   "execution_count": 19,
   "id": "736f1047",
   "metadata": {},
   "outputs": [
    {
     "data": {
      "text/plain": [
       "2        65.0\n",
       "91       69.0\n",
       "145      64.0\n",
       "219      64.0\n",
       "227      67.0\n",
       "         ... \n",
       "53695    65.0\n",
       "53697    65.0\n",
       "53756    64.0\n",
       "53757    64.0\n",
       "53785    65.0\n",
       "Name: table, Length: 605, dtype: float64"
      ]
     },
     "execution_count": 19,
     "metadata": {},
     "output_type": "execute_result"
    }
   ],
   "source": [
    "#Elimizde daha onceden tanimladigimiz aykiri degerlerimiz zaten vardi:\n",
    "df_table[aykiri_tf]"
   ]
  },
  {
   "cell_type": "markdown",
   "id": "0837c014",
   "metadata": {},
   "source": [
    "Aykiri degerleri cozmek icin 3 yontem vardir:\n",
    "1-Silme yontemi\n",
    "2-Ortalama yontemi\n",
    "3-Baskilama yontemi"
   ]
  },
  {
   "cell_type": "markdown",
   "id": "031ac08b",
   "metadata": {},
   "source": [
    "### yontem1: Silme: aykiri degerler silinerek calismanin disinda birakilabilir."
   ]
  },
  {
   "cell_type": "code",
   "execution_count": 20,
   "id": "49e66027",
   "metadata": {},
   "outputs": [],
   "source": [
    "import pandas as pd"
   ]
  },
  {
   "cell_type": "code",
   "execution_count": 22,
   "id": "9d99a787",
   "metadata": {},
   "outputs": [
    {
     "data": {
      "text/plain": [
       "pandas.core.series.Series"
      ]
     },
     "execution_count": 22,
     "metadata": {},
     "output_type": "execute_result"
    }
   ],
   "source": [
    "#once df_table'in tipini sorgulayalim:\n",
    "type(df_table) #tipi pandas serisi formunda,"
   ]
  },
  {
   "cell_type": "code",
   "execution_count": 35,
   "id": "6128e717",
   "metadata": {},
   "outputs": [],
   "source": [
    "df_table=pd.DataFrame(df_table) #bunu pandas dataframe'e cevirelim."
   ]
  },
  {
   "cell_type": "code",
   "execution_count": 36,
   "id": "12c05370",
   "metadata": {},
   "outputs": [
    {
     "data": {
      "text/plain": [
       "(53940, 1)"
      ]
     },
     "execution_count": 36,
     "metadata": {},
     "output_type": "execute_result"
    }
   ],
   "source": [
    "df_table.shape #53940 tane gozlem degeri var"
   ]
  },
  {
   "cell_type": "code",
   "execution_count": 43,
   "id": "4d8c28da",
   "metadata": {},
   "outputs": [],
   "source": [
    "#aykiri olmayan degerlere erismeye calisalim:\n",
    "t_df = df_table[~((df_table<(alt_sinir))|(df_table>(ust_sinir))).any(axis=1)]\n",
    "#kosulun disindakileri, kosulu saglamayanlari getir.\n",
    "#alt_sinir'dan asagida olanlari ve ust_sinir'dan yukarida olanlarin disindakileri getir.\n",
    "#axis1 sütün bazinda islem yapmak istedigimi belirttim."
   ]
  },
  {
   "cell_type": "code",
   "execution_count": 44,
   "id": "03a0b443",
   "metadata": {},
   "outputs": [
    {
     "data": {
      "text/plain": [
       "(53335, 1)"
      ]
     },
     "execution_count": 44,
     "metadata": {},
     "output_type": "execute_result"
    }
   ],
   "source": [
    "t_df.shape"
   ]
  },
  {
   "cell_type": "markdown",
   "id": "6f90927d",
   "metadata": {},
   "source": [
    "### yontem2: Ortalama ile doldurma: aykiri degerler, ortalama deger ile degistirilir."
   ]
  },
  {
   "cell_type": "code",
   "execution_count": 56,
   "id": "dfb81c71",
   "metadata": {},
   "outputs": [
    {
     "data": {
      "text/html": [
       "<div>\n",
       "<style scoped>\n",
       "    .dataframe tbody tr th:only-of-type {\n",
       "        vertical-align: middle;\n",
       "    }\n",
       "\n",
       "    .dataframe tbody tr th {\n",
       "        vertical-align: top;\n",
       "    }\n",
       "\n",
       "    .dataframe thead th {\n",
       "        text-align: right;\n",
       "    }\n",
       "</style>\n",
       "<table border=\"1\" class=\"dataframe\">\n",
       "  <thead>\n",
       "    <tr style=\"text-align: right;\">\n",
       "      <th></th>\n",
       "      <th>carat</th>\n",
       "      <th>depth</th>\n",
       "      <th>table</th>\n",
       "      <th>price</th>\n",
       "      <th>x</th>\n",
       "      <th>y</th>\n",
       "      <th>z</th>\n",
       "    </tr>\n",
       "  </thead>\n",
       "  <tbody>\n",
       "    <tr>\n",
       "      <th>0</th>\n",
       "      <td>0.23</td>\n",
       "      <td>61.5</td>\n",
       "      <td>55.0</td>\n",
       "      <td>326</td>\n",
       "      <td>3.95</td>\n",
       "      <td>3.98</td>\n",
       "      <td>2.43</td>\n",
       "    </tr>\n",
       "    <tr>\n",
       "      <th>1</th>\n",
       "      <td>0.21</td>\n",
       "      <td>59.8</td>\n",
       "      <td>61.0</td>\n",
       "      <td>326</td>\n",
       "      <td>3.89</td>\n",
       "      <td>3.84</td>\n",
       "      <td>2.31</td>\n",
       "    </tr>\n",
       "    <tr>\n",
       "      <th>2</th>\n",
       "      <td>0.23</td>\n",
       "      <td>56.9</td>\n",
       "      <td>65.0</td>\n",
       "      <td>327</td>\n",
       "      <td>4.05</td>\n",
       "      <td>4.07</td>\n",
       "      <td>2.31</td>\n",
       "    </tr>\n",
       "    <tr>\n",
       "      <th>3</th>\n",
       "      <td>0.29</td>\n",
       "      <td>62.4</td>\n",
       "      <td>58.0</td>\n",
       "      <td>334</td>\n",
       "      <td>4.20</td>\n",
       "      <td>4.23</td>\n",
       "      <td>2.63</td>\n",
       "    </tr>\n",
       "    <tr>\n",
       "      <th>4</th>\n",
       "      <td>0.31</td>\n",
       "      <td>63.3</td>\n",
       "      <td>58.0</td>\n",
       "      <td>335</td>\n",
       "      <td>4.34</td>\n",
       "      <td>4.35</td>\n",
       "      <td>2.75</td>\n",
       "    </tr>\n",
       "  </tbody>\n",
       "</table>\n",
       "</div>"
      ],
      "text/plain": [
       "   carat  depth  table  price     x     y     z\n",
       "0   0.23   61.5   55.0    326  3.95  3.98  2.43\n",
       "1   0.21   59.8   61.0    326  3.89  3.84  2.31\n",
       "2   0.23   56.9   65.0    327  4.05  4.07  2.31\n",
       "3   0.29   62.4   58.0    334  4.20  4.23  2.63\n",
       "4   0.31   63.3   58.0    335  4.34  4.35  2.75"
      ]
     },
     "execution_count": 56,
     "metadata": {},
     "output_type": "execute_result"
    }
   ],
   "source": [
    "#veri setimizi tekrar olusturalim ve df_table olarak kaydedelim:\n",
    "import seaborn as sns\n",
    "df=sns.load_dataset('diamonds') #diamonds isimli veri setini seaborn kutuphanesinden cektik.\n",
    "df=df.select_dtypes(include=['float64','int64']) #Sadece icerisindeki sayisal degerlere erismek icin bir tip secimi yaptik.\n",
    "df=df.dropna() #Veri setindeki eksik degerleri silerek, disarida birakiyoruz ve son dataframe'imizi olusturduk.\n",
    "df.head()"
   ]
  },
  {
   "cell_type": "code",
   "execution_count": 57,
   "id": "eb8b9b96",
   "metadata": {},
   "outputs": [],
   "source": [
    "#degiskenlerden bir tanesini secip bunun uzerinde calismalarimizi surdurelim.\n",
    "df_table=df[\"table\"] #dataframe'in icinden table degiskenini seciyorum. Bunu df_table olarak isimlendiriyorum."
   ]
  },
  {
   "cell_type": "code",
   "execution_count": 58,
   "id": "d0e072d7",
   "metadata": {},
   "outputs": [
    {
     "data": {
      "text/plain": [
       "0    False\n",
       "1    False\n",
       "2     True\n",
       "3    False\n",
       "4    False\n",
       "Name: table, dtype: bool"
      ]
     },
     "execution_count": 58,
     "metadata": {},
     "output_type": "execute_result"
    }
   ],
   "source": [
    "aykiri_tf.head() #aykiri_tf daha onceden belirlemistik ztn, bunu yine kullanabiliriz."
   ]
  },
  {
   "cell_type": "code",
   "execution_count": 59,
   "id": "3d1b7958",
   "metadata": {},
   "outputs": [
    {
     "data": {
      "text/plain": [
       "2        65.0\n",
       "91       69.0\n",
       "145      64.0\n",
       "219      64.0\n",
       "227      67.0\n",
       "         ... \n",
       "53695    65.0\n",
       "53697    65.0\n",
       "53756    64.0\n",
       "53757    64.0\n",
       "53785    65.0\n",
       "Name: table, Length: 605, dtype: float64"
      ]
     },
     "execution_count": 59,
     "metadata": {},
     "output_type": "execute_result"
    }
   ],
   "source": [
    "df_table[aykiri_tf] #aykirilari yakalayalim."
   ]
  },
  {
   "cell_type": "code",
   "execution_count": 60,
   "id": "c548c095",
   "metadata": {},
   "outputs": [
    {
     "data": {
      "text/plain": [
       "57.45718390804603"
      ]
     },
     "execution_count": 60,
     "metadata": {},
     "output_type": "execute_result"
    }
   ],
   "source": [
    "df_table.mean() #ortalamaya bakalim."
   ]
  },
  {
   "cell_type": "code",
   "execution_count": 61,
   "id": "5b04ba56",
   "metadata": {},
   "outputs": [
    {
     "name": "stderr",
     "output_type": "stream",
     "text": [
      "C:\\Users\\irema\\AppData\\Local\\Temp/ipykernel_10044/3369307138.py:1: SettingWithCopyWarning: \n",
      "A value is trying to be set on a copy of a slice from a DataFrame\n",
      "\n",
      "See the caveats in the documentation: https://pandas.pydata.org/pandas-docs/stable/user_guide/indexing.html#returning-a-view-versus-a-copy\n",
      "  df_table[aykiri_tf] = df_table.mean() #yakalanan aykiri degerlerin yerine ortalama degeri ata. not:uyariyi gormezden gel.\n"
     ]
    }
   ],
   "source": [
    "df_table[aykiri_tf] = df_table.mean() #yakalanan aykiri degerlerin yerine ortalama degeri ata. not:uyariyi gormezden gel."
   ]
  },
  {
   "cell_type": "code",
   "execution_count": 62,
   "id": "003c049d",
   "metadata": {},
   "outputs": [
    {
     "data": {
      "text/plain": [
       "2        57.457184\n",
       "91       57.457184\n",
       "145      57.457184\n",
       "219      57.457184\n",
       "227      57.457184\n",
       "           ...    \n",
       "53695    57.457184\n",
       "53697    57.457184\n",
       "53756    57.457184\n",
       "53757    57.457184\n",
       "53785    57.457184\n",
       "Name: table, Length: 605, dtype: float64"
      ]
     },
     "execution_count": 62,
     "metadata": {},
     "output_type": "execute_result"
    }
   ],
   "source": [
    "df_table[aykiri_tf] #aykiri degerlerde degisim oldu mu gozlemleyelim.Tum degerler ortalama deger alarak degisti."
   ]
  },
  {
   "cell_type": "markdown",
   "id": "1f230550",
   "metadata": {},
   "source": [
    "### yontem3: Baskilama Yontemi: aykiri degerler, sinir degerlere baskilanir. "
   ]
  },
  {
   "cell_type": "markdown",
   "id": "c6cf5b9d",
   "metadata": {},
   "source": [
    "Ust aykiri degerler ust sinira, alt aykiri degerler alt sinira baskilanir. Boylece aykiri degerlerin veri setini asagi ya da yukari cekme cabasi goz onunde bulundurulmus olur."
   ]
  },
  {
   "cell_type": "code",
   "execution_count": 65,
   "id": "36668240",
   "metadata": {
    "scrolled": true
   },
   "outputs": [
    {
     "data": {
      "text/html": [
       "<div>\n",
       "<style scoped>\n",
       "    .dataframe tbody tr th:only-of-type {\n",
       "        vertical-align: middle;\n",
       "    }\n",
       "\n",
       "    .dataframe tbody tr th {\n",
       "        vertical-align: top;\n",
       "    }\n",
       "\n",
       "    .dataframe thead th {\n",
       "        text-align: right;\n",
       "    }\n",
       "</style>\n",
       "<table border=\"1\" class=\"dataframe\">\n",
       "  <thead>\n",
       "    <tr style=\"text-align: right;\">\n",
       "      <th></th>\n",
       "      <th>carat</th>\n",
       "      <th>depth</th>\n",
       "      <th>table</th>\n",
       "      <th>price</th>\n",
       "      <th>x</th>\n",
       "      <th>y</th>\n",
       "      <th>z</th>\n",
       "    </tr>\n",
       "  </thead>\n",
       "  <tbody>\n",
       "    <tr>\n",
       "      <th>0</th>\n",
       "      <td>0.23</td>\n",
       "      <td>61.5</td>\n",
       "      <td>55.0</td>\n",
       "      <td>326</td>\n",
       "      <td>3.95</td>\n",
       "      <td>3.98</td>\n",
       "      <td>2.43</td>\n",
       "    </tr>\n",
       "    <tr>\n",
       "      <th>1</th>\n",
       "      <td>0.21</td>\n",
       "      <td>59.8</td>\n",
       "      <td>61.0</td>\n",
       "      <td>326</td>\n",
       "      <td>3.89</td>\n",
       "      <td>3.84</td>\n",
       "      <td>2.31</td>\n",
       "    </tr>\n",
       "    <tr>\n",
       "      <th>2</th>\n",
       "      <td>0.23</td>\n",
       "      <td>56.9</td>\n",
       "      <td>65.0</td>\n",
       "      <td>327</td>\n",
       "      <td>4.05</td>\n",
       "      <td>4.07</td>\n",
       "      <td>2.31</td>\n",
       "    </tr>\n",
       "    <tr>\n",
       "      <th>3</th>\n",
       "      <td>0.29</td>\n",
       "      <td>62.4</td>\n",
       "      <td>58.0</td>\n",
       "      <td>334</td>\n",
       "      <td>4.20</td>\n",
       "      <td>4.23</td>\n",
       "      <td>2.63</td>\n",
       "    </tr>\n",
       "    <tr>\n",
       "      <th>4</th>\n",
       "      <td>0.31</td>\n",
       "      <td>63.3</td>\n",
       "      <td>58.0</td>\n",
       "      <td>335</td>\n",
       "      <td>4.34</td>\n",
       "      <td>4.35</td>\n",
       "      <td>2.75</td>\n",
       "    </tr>\n",
       "  </tbody>\n",
       "</table>\n",
       "</div>"
      ],
      "text/plain": [
       "   carat  depth  table  price     x     y     z\n",
       "0   0.23   61.5   55.0    326  3.95  3.98  2.43\n",
       "1   0.21   59.8   61.0    326  3.89  3.84  2.31\n",
       "2   0.23   56.9   65.0    327  4.05  4.07  2.31\n",
       "3   0.29   62.4   58.0    334  4.20  4.23  2.63\n",
       "4   0.31   63.3   58.0    335  4.34  4.35  2.75"
      ]
     },
     "execution_count": 65,
     "metadata": {},
     "output_type": "execute_result"
    }
   ],
   "source": [
    "#veri setimizi tekrar olusturalim ve df_table olarak kaydedelim:\n",
    "import seaborn as sns\n",
    "df=sns.load_dataset('diamonds') #diamonds isimli veri setini seaborn kutuphanesinden cektik.\n",
    "df=df.select_dtypes(include=['float64','int64']) #Sadece icerisindeki sayisal degerlere erismek icin bir tip secimi yaptik.\n",
    "df=df.dropna() #Veri setindeki eksik degerleri silerek, disarida birakiyoruz ve son dataframe'imizi olusturduk.\n",
    "df.head()"
   ]
  },
  {
   "cell_type": "code",
   "execution_count": 66,
   "id": "da340d70",
   "metadata": {},
   "outputs": [],
   "source": [
    "#degiskenlerden bir tanesini secip bunun uzerinde calismalarimizi surdurelim.\n",
    "df_table=df[\"table\"] #dataframe'in icinden table degiskenini seciyorum. Bunu df_table olarak isimlendiriyorum."
   ]
  },
  {
   "cell_type": "code",
   "execution_count": 69,
   "id": "05ee7095",
   "metadata": {},
   "outputs": [
    {
     "data": {
      "text/plain": [
       "51.5"
      ]
     },
     "execution_count": 69,
     "metadata": {},
     "output_type": "execute_result"
    }
   ],
   "source": [
    "alt_sinir"
   ]
  },
  {
   "cell_type": "code",
   "execution_count": 70,
   "id": "1fbc5ec1",
   "metadata": {},
   "outputs": [],
   "source": [
    "alt_aykiri_tf=(df_table<alt_sinir) #alt aykirilari yakalayalim."
   ]
  },
  {
   "cell_type": "code",
   "execution_count": 71,
   "id": "864e0e60",
   "metadata": {},
   "outputs": [
    {
     "name": "stderr",
     "output_type": "stream",
     "text": [
      "C:\\Users\\irema\\AppData\\Local\\Temp/ipykernel_10044/47181625.py:1: SettingWithCopyWarning: \n",
      "A value is trying to be set on a copy of a slice from a DataFrame\n",
      "\n",
      "See the caveats in the documentation: https://pandas.pydata.org/pandas-docs/stable/user_guide/indexing.html#returning-a-view-versus-a-copy\n",
      "  df_table[alt_aykiri_tf] = alt_sinir #alt aykirilari, alt sinir degere baskilayalim.\n"
     ]
    }
   ],
   "source": [
    "df_table[alt_aykiri_tf] = alt_sinir #alt aykirilari, alt sinir degere baskilayalim."
   ]
  },
  {
   "cell_type": "code",
   "execution_count": 72,
   "id": "61e45f54",
   "metadata": {},
   "outputs": [
    {
     "data": {
      "text/plain": [
       "1515     51.5\n",
       "3238     51.5\n",
       "3979     51.5\n",
       "4150     51.5\n",
       "5979     51.5\n",
       "7418     51.5\n",
       "8853     51.5\n",
       "11368    51.5\n",
       "22701    51.5\n",
       "25179    51.5\n",
       "26387    51.5\n",
       "33586    51.5\n",
       "35633    51.5\n",
       "45798    51.5\n",
       "46040    51.5\n",
       "47630    51.5\n",
       "Name: table, dtype: float64"
      ]
     },
     "execution_count": 72,
     "metadata": {},
     "output_type": "execute_result"
    }
   ],
   "source": [
    "df_table[alt_aykiri_tf] #alt aykiri degerler degismis mi gozlemleyelim."
   ]
  },
  {
   "cell_type": "code",
   "execution_count": null,
   "id": "eba408a9",
   "metadata": {},
   "outputs": [],
   "source": []
  }
 ],
 "metadata": {
  "kernelspec": {
   "display_name": "Python 3 (ipykernel)",
   "language": "python",
   "name": "python3"
  },
  "language_info": {
   "codemirror_mode": {
    "name": "ipython",
    "version": 3
   },
   "file_extension": ".py",
   "mimetype": "text/x-python",
   "name": "python",
   "nbconvert_exporter": "python",
   "pygments_lexer": "ipython3",
   "version": "3.9.7"
  }
 },
 "nbformat": 4,
 "nbformat_minor": 5
}
